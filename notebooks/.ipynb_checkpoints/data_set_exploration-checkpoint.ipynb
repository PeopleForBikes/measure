{
 "cells": [
  {
   "cell_type": "code",
   "execution_count": null,
   "id": "ca618bc3-c9f2-472f-9781-97a61d0eefde",
   "metadata": {},
   "outputs": [],
   "source": [
    "import geopandas\n",
    "import pandas"
   ]
  },
  {
   "cell_type": "code",
   "execution_count": null,
   "id": "48d5aced-8649-4d9a-b9b3-8e8da815d805",
   "metadata": {},
   "outputs": [],
   "source": [
    "pandas.set_option('max_columns', None)"
   ]
  },
  {
   "cell_type": "code",
   "execution_count": null,
   "id": "dbc89323-7ada-465c-a7f7-0b475c39ad52",
   "metadata": {},
   "outputs": [],
   "source": [
    "gdf = geopandas.read_file(\"neighborhood_ways/neighborhood_ways.shp\")"
   ]
  },
  {
   "cell_type": "code",
   "execution_count": null,
   "id": "794fa4b9-f19a-40f9-9ac8-881016090276",
   "metadata": {},
   "outputs": [],
   "source": [
    "gdf.info()"
   ]
  },
  {
   "cell_type": "code",
   "execution_count": null,
   "id": "3536c605-41ad-49fb-af9b-6d98e5d05bf9",
   "metadata": {},
   "outputs": [],
   "source": [
    "# Drop useless columns\n",
    "gdf.drop([\"ROAD_ID\", \"INTERSECTI\", \"INTERSE_01\", \"OSM_ID\", \"PATH_ID\", \"SPEED_LIMI\", \"WIDTH_FT\", \"FT_LANES\", \"TF_LANES\", \"FT_CROSS_L\", \"TF_CROSS_L\", \"TWLTL_CROS\", \"FT_PARK\", \"TF_PARK\", \"FT_SEG_STR\", \"TF_SEG_STR\", \"TF_INT_STR\", \"XWALK\", \"FT_INT_STR\", \"ONE_WAY_CA\", \"ONE_WAY\"],  axis = 1, inplace=True)"
   ]
  },
  {
   "cell_type": "code",
   "execution_count": null,
   "id": "f2372be3-9828-4b5c-962d-855518b3b2d3",
   "metadata": {},
   "outputs": [],
   "source": [
    "# Check the bike lane categories.\n",
    "gdf[\"FT_BIKE_IN\"].unique()"
   ]
  },
  {
   "cell_type": "code",
   "execution_count": null,
   "id": "4cf1422c-3670-40ab-a52e-6c452387d730",
   "metadata": {},
   "outputs": [],
   "source": [
    "# Compute their distance.\n",
    "gdf[\"distance\"] = gdf.length"
   ]
  },
  {
   "cell_type": "code",
   "execution_count": null,
   "id": "04be0bca-55f7-47fe-988c-cc4cc665d499",
   "metadata": {},
   "outputs": [],
   "source": [
    "gdf.head(2)"
   ]
  },
  {
   "cell_type": "code",
   "execution_count": null,
   "id": "6cc29609-e835-4e4f-a6b1-1534a4b3fd7f",
   "metadata": {},
   "outputs": [],
   "source": [
    "# This does not work\n",
    "# gdf.to_file(\"./simplified.csv\", driver='CSV')"
   ]
  },
  {
   "cell_type": "code",
   "execution_count": null,
   "id": "2ef010fd-b1a2-48a1-a269-e12f7ef40559",
   "metadata": {},
   "outputs": [],
   "source": [
    "gdf.crs"
   ]
  },
  {
   "cell_type": "code",
   "execution_count": null,
   "id": "7cf99d00-a76b-46cf-9e66-6b015793870a",
   "metadata": {},
   "outputs": [],
   "source": [
    "# Map it!\n",
    "# gdf.explore(column=\"FT_BIKE_IN\")"
   ]
  },
  {
   "cell_type": "code",
   "execution_count": null,
   "id": "ad1f780b-6904-4fe4-9339-4c78134c2d2b",
   "metadata": {},
   "outputs": [],
   "source": [
    "# lane_df = gdf[gdf[\"FT_BIKE_IN\"] == \"lane\"]\n",
    "# buffered_lane_df = gdf[gdf[\"FT_BIKE_IN\"] == \"buffered_lane\"]\n",
    "# sharrow_df = gdf[gdf[\"FT_BIKE_IN\"] == \"sharrow\"]\n",
    "# track_df = gdf[gdf[\"FT_BIKE_IN\"] == \"track\"]\n",
    "# none_df = gdf[gdf[\"FT_BIKE_IN\"].isna()]"
   ]
  },
  {
   "cell_type": "code",
   "execution_count": null,
   "id": "33a17a26-fa94-4f80-b993-249ffd9da3d5",
   "metadata": {},
   "outputs": [],
   "source": [
    "# Looses the geomery though...\n",
    "grouped = gdf.groupby(\"FT_BIKE_IN\",dropna=False).sum()"
   ]
  },
  {
   "cell_type": "code",
   "execution_count": null,
   "id": "cde0076e-90d7-4a25-8763-d7a797f2dc11",
   "metadata": {},
   "outputs": [],
   "source": [
    "# Get the distances in km.\n",
    "grouped[\"distance\"] = grouped[\"distance\"].astype(int) / 1000"
   ]
  },
  {
   "cell_type": "code",
   "execution_count": null,
   "id": "d01dfa16-1c7b-4908-8e62-eaf2a94b4a5e",
   "metadata": {},
   "outputs": [],
   "source": [
    "grouped"
   ]
  },
  {
   "cell_type": "code",
   "execution_count": null,
   "id": "dfabfd68-2abf-49c9-95a7-019c4fe45bec",
   "metadata": {},
   "outputs": [],
   "source": [
    "gdf[\"distance\"].sum() / 1000"
   ]
  },
  {
   "cell_type": "code",
   "execution_count": null,
   "id": "0ced426c-4b43-4dc5-a489-9964e38967cc",
   "metadata": {},
   "outputs": [],
   "source": [
    "grouped.to_dict()"
   ]
  },
  {
   "cell_type": "code",
   "execution_count": null,
   "id": "f418ae93-6e5f-4fe6-ac89-964a2de52974",
   "metadata": {},
   "outputs": [],
   "source": [
    "grouped.to_dict('split')"
   ]
  },
  {
   "cell_type": "code",
   "execution_count": null,
   "id": "91ff2518-3976-4ee3-ae40-17c20ae1748c",
   "metadata": {},
   "outputs": [],
   "source": [
    "grouped.to_dict('records')"
   ]
  },
  {
   "cell_type": "code",
   "execution_count": null,
   "id": "8672895b-ad83-4b2c-a39d-ae57f008f011",
   "metadata": {},
   "outputs": [],
   "source": [
    "grouped_dict = grouped.to_dict('index')\n",
    "grouped_dict"
   ]
  },
  {
   "cell_type": "code",
   "execution_count": null,
   "id": "b07bf07a-3fd8-4092-99ea-47dece1bfab2",
   "metadata": {},
   "outputs": [],
   "source": [
    "regrouped = gdf.groupby(\"FT_BIKE_IN\",dropna=False, as_index=False).sum()\n",
    "regrouped"
   ]
  },
  {
   "cell_type": "code",
   "execution_count": null,
   "id": "d7b650ab-a1d3-4687-81bd-c4d84cddacd6",
   "metadata": {},
   "outputs": [],
   "source": [
    "regrouped_d = regrouped.to_dict(\"records\")\n",
    "regrouped_d"
   ]
  },
  {
   "cell_type": "code",
   "execution_count": null,
   "id": "5a7f3cd5-0ece-4316-9048-15468eb3f951",
   "metadata": {},
   "outputs": [],
   "source": []
  }
 ],
 "metadata": {
  "kernelspec": {
   "display_name": "Python 3 (ipykernel)",
   "language": "python",
   "name": "python3"
  },
  "language_info": {
   "codemirror_mode": {
    "name": "ipython",
    "version": 3
   },
   "file_extension": ".py",
   "mimetype": "text/x-python",
   "name": "python",
   "nbconvert_exporter": "python",
   "pygments_lexer": "ipython3",
   "version": "3.10.2"
  }
 },
 "nbformat": 4,
 "nbformat_minor": 5
}
